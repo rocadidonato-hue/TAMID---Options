{
 "cells": [
  {
   "cell_type": "markdown",
   "id": "18b26ddf",
   "metadata": {},
   "source": [
    "# Homework 2 | Exploring Options | Tasks 1-4 due 09/22/25 | Task 5 due 09/24/25"
   ]
  },
  {
   "cell_type": "markdown",
   "id": "8e5b304d",
   "metadata": {},
   "source": [
    "Now that you have all of the options data stored locally on your computer and in pkl files, we can begin working with it. Your task will be to edit the monthly data and make some observations about its structure. See below."
   ]
  },
  {
   "cell_type": "markdown",
   "id": "4c96651e",
   "metadata": {},
   "source": [
    "## Tasks\n",
    "\n",
    "### 1. For each file, remove the following columns: ['ImpliedVolatility', 'Delta','Gamma', 'Vega', 'Theta']\n",
    "\n",
    "### 2. Add a column for the SPX index. MAKE SURE THE DATES MATCH! Hint: You might want to set the index of the options data to the date column... If yFinance doesn't let you download the SPX data skip this for now.\n",
    "\n",
    "### 2. On paper or using markdown, use your knowledge of calculus to compute explicit formulas for the Greeks we discussed\n",
    "\n",
    "### 3. Add columns of the Greeks using your formulae\n",
    "\n",
    "### 4. Using the Newton Raphson method discussed on 9/17/25, calculate implied volatilies for each option and add this as a column to the data\n",
    "\n",
    "### 5. Now plot the following and keep an eye out for specific relationships. We will talk about what we notice.\n",
    "\n",
    "### 5.1 Using the ATM Strike and fixed date, plot the following:\n",
    "* Call delta vs. time to maturity\n",
    "* Call gamma vs. time to maturity\n",
    "* Call theta vs. time to maturity\n",
    "* Call vega vs. time to maturity\n",
    "* Call implied volatility vs. time to maturity\n",
    "\n",
    "Do the same for puts. What do you notice about the greeks for calls and puts?\n",
    "\n",
    "### 5.2 From the span of 2015-2020:\n",
    "* Calculate a 5,21,63,129 rolling realiezd volatilities for SPX\n",
    "* Plot the implied volatilties for ATM options expiring at roughly the same 5,21,63,129 date marks. What I mean by this is, iterate through the data and calculate the implied volatility for ATM calls expriing in those times for every single day. You won't be using the same option for the 5 years if you get what I mean... Maybe it's clear already, and I'm being dramatic.\n",
    "* Make some plots of IV - RV. What do you notice? When does the graph become positive?\n",
    "\n",
    "### 5.3 Pick a date and maturity of your own choice and plot the following:\n",
    "* Strike vs. delta\n",
    "* Strike vs. theta\n",
    "* Strike vs. IV\n",
    "* Strike vs. option price\n",
    "\n",
    "Feel free to do any additional analysis with the data at any time by the way. We are getting familiar with how options work here!"
   ]
  },
  {
   "cell_type": "markdown",
   "id": "0f3c7601",
   "metadata": {},
   "source": [
    "## Your work starts here"
   ]
  },
  {
   "metadata": {
    "ExecuteTime": {
     "end_time": "2025-09-21T01:02:21.604614Z",
     "start_time": "2025-09-21T00:55:43.425169Z"
    }
   },
   "cell_type": "code",
   "source": [
    "import numpy as np\n",
    "import yfinance as yf\n",
    "import os\n",
    "import pandas as pd\n",
    "\n",
    "SPX = yf.Ticker(\"^GSPC\")\n",
    "df_SPX = SPX.history(period=\"30y\", interval=\"1d\")\n",
    "df_SPX.index = df_SPX.index.tz_localize(None)\n",
    "close_series = df_SPX['Close'].round(3)\n",
    "\n",
    "folder = r\"Folder Location\"\n",
    "\n",
    "drop_cols = ['ImpliedVolatility', 'Delta','Gamma', 'Vega', 'Theta']\n",
    "\n",
    "for file in os.listdir(folder):\n",
    "    if file.endswith(\".pkl\"):\n",
    "        file_path = os.path.join(folder, file)\n",
    "\n",
    "        df = pd.read_pickle(file_path)\n",
    "        header_str = df.columns[0]\n",
    "        new_columns = header_str.split('\\t')\n",
    "\n",
    "        df = df.iloc[:,0].str.split(\"\\t\", expand=True)\n",
    "        df.columns = new_columns\n",
    "        df[\"Date\"] = pd.to_datetime(df[\"Date\"].astype(str), format = \"%Y%m%d\")\n",
    "        #print(df.head())\n",
    "        df = df.drop(drop_cols, axis=1, errors='ignore')\n",
    "        df.set_index(\"Date\", inplace=True)\n",
    "        df[\"SPX\"] = close_series.reindex(df.index)\n",
    "\n",
    "        df.to_pickle(file_path)"
   ],
   "id": "8ba7df2c376e8ccc",
   "outputs": [],
   "execution_count": 2
  },
  {
   "metadata": {
    "ExecuteTime": {
     "end_time": "2025-09-21T01:09:52.165813Z",
     "start_time": "2025-09-21T01:09:52.157328Z"
    }
   },
   "cell_type": "code",
   "source": "print(df.columns)",
   "id": "5bab1d599b5d6c74",
   "outputs": [
    {
     "name": "stdout",
     "output_type": "stream",
     "text": [
      "Index(['SecurityID', 'symbol', 'symbolflag', 'Strike', 'Expiration', 'CallPut',\n",
      "       'BestBid', 'BestOffer', 'LastTradeDate', 'Volume', 'OpenInterest',\n",
      "       'SpecialSettlement', 'OptionID2', 'AdjustmentFactor', 'AMSettlement',\n",
      "       'ContractSize', 'ExpiryIndicator', 'SPX'],\n",
      "      dtype='object')\n"
     ]
    }
   ],
   "execution_count": 3
  },
  {
   "metadata": {
    "ExecuteTime": {
     "end_time": "2025-09-21T16:56:41.225727Z",
     "start_time": "2025-09-21T16:56:34.921662Z"
    }
   },
   "cell_type": "code",
   "source": [
    "import numpy as np\n",
    "from scipy.stats import norm\n",
    "import pandas as pd\n",
    "import os\n",
    "\n",
    "r= 0.04\n",
    "sigma = 0.4\n",
    "\n",
    "folder = r\"Folder Location\"\n",
    "\n",
    "def delta(S, K, T, r, sigma, option_type = 'C'):\n",
    "    d1 = (np.log(S / K) + (r + 0.5 * sigma ** 2) * T) / (sigma * np.sqrt(T))\n",
    "    if option_type == 'C':\n",
    "        return norm.cdf(d1)\n",
    "    else:\n",
    "        return norm.cdf(d1) - 1\n",
    "\n",
    "for file in os.listdir(folder):\n",
    "    if file.endswith(\".pkl\"):\n",
    "        file_path = os.path.join(folder, file)\n",
    "\n",
    "        df = pd.read_pickle(file_path)\n",
    "\n",
    "        df[\"SPX\"] = pd.to_numeric(df[\"SPX\"], errors=\"coerce\")\n",
    "        df[\"Strike\"] = pd.to_numeric(df[\"Strike\"], errors=\"coerce\")\n",
    "        df[\"Strike\"] = df[\"Strike\"] / 1000\n",
    "\n",
    "        df[\"Expiration\"] = pd.to_datetime(df[\"Expiration\"], format=\"%Y%m%d\")\n",
    "        df[\"T\"] = (df[\"Expiration\"] - df.index).dt.days / 365\n",
    "        df[\"Delta\"] = df.apply(lambda row: delta(S=row[\"SPX\"], K = row[\"Strike\"], T = max(row[\"T\"], 0), r = r, sigma = sigma, option_type = row[\"CallPut\"]), axis = 1)\n",
    "        print(df.head())\n",
    "\n",
    "         #df.to_pickle(file_path)"
   ],
   "id": "788aef3ce07dc70f",
   "outputs": [
    {
     "name": "stdout",
     "output_type": "stream",
     "text": [
      "           SecurityID    symbol symbolflag  Strike Expiration CallPut BestBid  \\\n",
      "Date                                                                            \n",
      "1996-01-04     108105  098A3.1A          0   600.0 1996-03-16       C   24.75   \n",
      "1996-01-05     108105  098A3.1A          0   600.0 1996-03-16       C  24.625   \n",
      "1996-01-08     108105  098A3.1A          0   600.0 1996-03-16       C    26.5   \n",
      "1996-01-09     108105  098A3.1A          0   600.0 1996-03-16       C  17.375   \n",
      "1996-01-10     108105  098A3.1A          0   600.0 1996-03-16       C   14.25   \n",
      "\n",
      "           BestOffer LastTradeDate Volume OpenInterest SpecialSettlement  \\\n",
      "Date                                                                       \n",
      "1996-01-04     25.75      19960104    150         5633                 0   \n",
      "1996-01-05    25.375      19960105     50         5648                 0   \n",
      "1996-01-08      27.5      19960105      0         5648                 0   \n",
      "1996-01-09    18.125      19960109      1         5647                 0   \n",
      "1996-01-10     14.75      19960110    605         5447                 0   \n",
      "\n",
      "           OptionID2 AdjustmentFactor AMSettlement ContractSize  \\\n",
      "Date                                                              \n",
      "1996-01-04  10003226                1            1          100   \n",
      "1996-01-05  10003226                1            1          100   \n",
      "1996-01-08  10003226                1            1          100   \n",
      "1996-01-09  10003226                1            1          100   \n",
      "1996-01-10  10003226                1            1          100   \n",
      "\n",
      "           ExpiryIndicator     SPX         T     Delta  \n",
      "Date                                                    \n",
      "1996-01-04                  617.70  0.197260  0.616725  \n",
      "1996-01-05                  616.71  0.194521  0.613334  \n",
      "1996-01-08                  618.46  0.186301  0.619818  \n",
      "1996-01-09                  609.45  0.183562  0.586955  \n",
      "1996-01-10                  598.48  0.180822  0.544849  \n",
      "           SecurityID    symbol symbolflag  Strike Expiration CallPut  \\\n",
      "Date                                                                    \n",
      "1996-02-01     108105  09B2D.44          0   540.0 1996-02-17       C   \n",
      "1996-02-02     108105  09B2D.44          0   540.0 1996-02-17       C   \n",
      "1996-02-05     108105  09B2D.44          0   540.0 1996-02-17       C   \n",
      "1996-02-06     108105  09B2D.44          0   540.0 1996-02-17       C   \n",
      "1996-02-07     108105  09B2D.44          0   540.0 1996-02-17       C   \n",
      "\n",
      "            BestBid BestOffer LastTradeDate Volume OpenInterest  \\\n",
      "Date                                                              \n",
      "1996-02-01     97.5      98.5                    0            0   \n",
      "1996-02-02   96.375    97.375                    0            0   \n",
      "1996-02-05    100.0     101.0                    0            0   \n",
      "1996-02-06  106.375   107.375                    0            0   \n",
      "1996-02-07  109.875   110.875                    0            0   \n",
      "\n",
      "           SpecialSettlement OptionID2 AdjustmentFactor AMSettlement  \\\n",
      "Date                                                                   \n",
      "1996-02-01                 0  10169668                1            1   \n",
      "1996-02-02                 0  10169668                1            1   \n",
      "1996-02-05                 0  10169668                1            1   \n",
      "1996-02-06                 0  10169668                1            1   \n",
      "1996-02-07                 0  10169668                1            1   \n",
      "\n",
      "           ContractSize ExpiryIndicator     SPX         T     Delta  \n",
      "Date                                                                 \n",
      "1996-02-01          100                  638.46  0.043836  0.980431  \n",
      "1996-02-02          100                  635.84  0.041096  0.981036  \n",
      "1996-02-05          100                  641.43  0.032877  0.992403  \n",
      "1996-02-06          100                  646.33  0.030137  0.995861  \n",
      "1996-02-07          100                  649.93  0.027397  0.997802  \n"
     ]
    },
    {
     "ename": "KeyboardInterrupt",
     "evalue": "",
     "output_type": "error",
     "traceback": [
      "\u001B[31m---------------------------------------------------------------------------\u001B[39m",
      "\u001B[31mKeyboardInterrupt\u001B[39m                         Traceback (most recent call last)",
      "\u001B[36mCell\u001B[39m\u001B[36m \u001B[39m\u001B[32mIn[5]\u001B[39m\u001B[32m, line 30\u001B[39m\n\u001B[32m     28\u001B[39m df[\u001B[33m\"\u001B[39m\u001B[33mExpiration\u001B[39m\u001B[33m\"\u001B[39m] = pd.to_datetime(df[\u001B[33m\"\u001B[39m\u001B[33mExpiration\u001B[39m\u001B[33m\"\u001B[39m], \u001B[38;5;28mformat\u001B[39m=\u001B[33m\"\u001B[39m\u001B[33m%\u001B[39m\u001B[33mY\u001B[39m\u001B[33m%\u001B[39m\u001B[33mm\u001B[39m\u001B[38;5;132;01m%d\u001B[39;00m\u001B[33m\"\u001B[39m)\n\u001B[32m     29\u001B[39m df[\u001B[33m\"\u001B[39m\u001B[33mT\u001B[39m\u001B[33m\"\u001B[39m] = (df[\u001B[33m\"\u001B[39m\u001B[33mExpiration\u001B[39m\u001B[33m\"\u001B[39m] - df.index).dt.days / \u001B[32m365\u001B[39m\n\u001B[32m---> \u001B[39m\u001B[32m30\u001B[39m df[\u001B[33m\"\u001B[39m\u001B[33mDelta\u001B[39m\u001B[33m\"\u001B[39m] = \u001B[43mdf\u001B[49m\u001B[43m.\u001B[49m\u001B[43mapply\u001B[49m\u001B[43m(\u001B[49m\u001B[38;5;28;43;01mlambda\u001B[39;49;00m\u001B[43m \u001B[49m\u001B[43mrow\u001B[49m\u001B[43m:\u001B[49m\u001B[43m \u001B[49m\u001B[43mdelta\u001B[49m\u001B[43m(\u001B[49m\u001B[43mS\u001B[49m\u001B[43m=\u001B[49m\u001B[43mrow\u001B[49m\u001B[43m[\u001B[49m\u001B[33;43m\"\u001B[39;49m\u001B[33;43mSPX\u001B[39;49m\u001B[33;43m\"\u001B[39;49m\u001B[43m]\u001B[49m\u001B[43m,\u001B[49m\u001B[43m \u001B[49m\u001B[43mK\u001B[49m\u001B[43m \u001B[49m\u001B[43m=\u001B[49m\u001B[43m \u001B[49m\u001B[43mrow\u001B[49m\u001B[43m[\u001B[49m\u001B[33;43m\"\u001B[39;49m\u001B[33;43mStrike\u001B[39;49m\u001B[33;43m\"\u001B[39;49m\u001B[43m]\u001B[49m\u001B[43m,\u001B[49m\u001B[43m \u001B[49m\u001B[43mT\u001B[49m\u001B[43m \u001B[49m\u001B[43m=\u001B[49m\u001B[43m \u001B[49m\u001B[38;5;28;43mmax\u001B[39;49m\u001B[43m(\u001B[49m\u001B[43mrow\u001B[49m\u001B[43m[\u001B[49m\u001B[33;43m\"\u001B[39;49m\u001B[33;43mT\u001B[39;49m\u001B[33;43m\"\u001B[39;49m\u001B[43m]\u001B[49m\u001B[43m,\u001B[49m\u001B[43m \u001B[49m\u001B[32;43m0\u001B[39;49m\u001B[43m)\u001B[49m\u001B[43m,\u001B[49m\u001B[43m \u001B[49m\u001B[43mr\u001B[49m\u001B[43m \u001B[49m\u001B[43m=\u001B[49m\u001B[43m \u001B[49m\u001B[43mr\u001B[49m\u001B[43m,\u001B[49m\u001B[43m \u001B[49m\u001B[43msigma\u001B[49m\u001B[43m \u001B[49m\u001B[43m=\u001B[49m\u001B[43m \u001B[49m\u001B[43msigma\u001B[49m\u001B[43m,\u001B[49m\u001B[43m \u001B[49m\u001B[43moption_type\u001B[49m\u001B[43m \u001B[49m\u001B[43m=\u001B[49m\u001B[43m \u001B[49m\u001B[43mrow\u001B[49m\u001B[43m[\u001B[49m\u001B[33;43m\"\u001B[39;49m\u001B[33;43mCallPut\u001B[39;49m\u001B[33;43m\"\u001B[39;49m\u001B[43m]\u001B[49m\u001B[43m)\u001B[49m\u001B[43m,\u001B[49m\u001B[43m \u001B[49m\u001B[43maxis\u001B[49m\u001B[43m \u001B[49m\u001B[43m=\u001B[49m\u001B[43m \u001B[49m\u001B[32;43m1\u001B[39;49m\u001B[43m)\u001B[49m\n\u001B[32m     31\u001B[39m \u001B[38;5;28mprint\u001B[39m(df.head())\n\u001B[32m     33\u001B[39m  \u001B[38;5;66;03m#df.to_pickle(file_path)\u001B[39;00m\n",
      "\u001B[36mFile \u001B[39m\u001B[32m~\\AppData\\Local\\Programs\\Python\\Python313\\Lib\\site-packages\\pandas\\core\\frame.py:10381\u001B[39m, in \u001B[36mDataFrame.apply\u001B[39m\u001B[34m(self, func, axis, raw, result_type, args, by_row, engine, engine_kwargs, **kwargs)\u001B[39m\n\u001B[32m  10367\u001B[39m \u001B[38;5;28;01mfrom\u001B[39;00m\u001B[38;5;250m \u001B[39m\u001B[34;01mpandas\u001B[39;00m\u001B[34;01m.\u001B[39;00m\u001B[34;01mcore\u001B[39;00m\u001B[34;01m.\u001B[39;00m\u001B[34;01mapply\u001B[39;00m\u001B[38;5;250m \u001B[39m\u001B[38;5;28;01mimport\u001B[39;00m frame_apply\n\u001B[32m  10369\u001B[39m op = frame_apply(\n\u001B[32m  10370\u001B[39m     \u001B[38;5;28mself\u001B[39m,\n\u001B[32m  10371\u001B[39m     func=func,\n\u001B[32m   (...)\u001B[39m\u001B[32m  10379\u001B[39m     kwargs=kwargs,\n\u001B[32m  10380\u001B[39m )\n\u001B[32m> \u001B[39m\u001B[32m10381\u001B[39m \u001B[38;5;28;01mreturn\u001B[39;00m \u001B[43mop\u001B[49m\u001B[43m.\u001B[49m\u001B[43mapply\u001B[49m\u001B[43m(\u001B[49m\u001B[43m)\u001B[49m.__finalize__(\u001B[38;5;28mself\u001B[39m, method=\u001B[33m\"\u001B[39m\u001B[33mapply\u001B[39m\u001B[33m\"\u001B[39m)\n",
      "\u001B[36mFile \u001B[39m\u001B[32m~\\AppData\\Local\\Programs\\Python\\Python313\\Lib\\site-packages\\pandas\\core\\apply.py:916\u001B[39m, in \u001B[36mFrameApply.apply\u001B[39m\u001B[34m(self)\u001B[39m\n\u001B[32m    913\u001B[39m \u001B[38;5;28;01melif\u001B[39;00m \u001B[38;5;28mself\u001B[39m.raw:\n\u001B[32m    914\u001B[39m     \u001B[38;5;28;01mreturn\u001B[39;00m \u001B[38;5;28mself\u001B[39m.apply_raw(engine=\u001B[38;5;28mself\u001B[39m.engine, engine_kwargs=\u001B[38;5;28mself\u001B[39m.engine_kwargs)\n\u001B[32m--> \u001B[39m\u001B[32m916\u001B[39m \u001B[38;5;28;01mreturn\u001B[39;00m \u001B[38;5;28;43mself\u001B[39;49m\u001B[43m.\u001B[49m\u001B[43mapply_standard\u001B[49m\u001B[43m(\u001B[49m\u001B[43m)\u001B[49m\n",
      "\u001B[36mFile \u001B[39m\u001B[32m~\\AppData\\Local\\Programs\\Python\\Python313\\Lib\\site-packages\\pandas\\core\\apply.py:1063\u001B[39m, in \u001B[36mFrameApply.apply_standard\u001B[39m\u001B[34m(self)\u001B[39m\n\u001B[32m   1061\u001B[39m \u001B[38;5;28;01mdef\u001B[39;00m\u001B[38;5;250m \u001B[39m\u001B[34mapply_standard\u001B[39m(\u001B[38;5;28mself\u001B[39m):\n\u001B[32m   1062\u001B[39m     \u001B[38;5;28;01mif\u001B[39;00m \u001B[38;5;28mself\u001B[39m.engine == \u001B[33m\"\u001B[39m\u001B[33mpython\u001B[39m\u001B[33m\"\u001B[39m:\n\u001B[32m-> \u001B[39m\u001B[32m1063\u001B[39m         results, res_index = \u001B[38;5;28;43mself\u001B[39;49m\u001B[43m.\u001B[49m\u001B[43mapply_series_generator\u001B[49m\u001B[43m(\u001B[49m\u001B[43m)\u001B[49m\n\u001B[32m   1064\u001B[39m     \u001B[38;5;28;01melse\u001B[39;00m:\n\u001B[32m   1065\u001B[39m         results, res_index = \u001B[38;5;28mself\u001B[39m.apply_series_numba()\n",
      "\u001B[36mFile \u001B[39m\u001B[32m~\\AppData\\Local\\Programs\\Python\\Python313\\Lib\\site-packages\\pandas\\core\\apply.py:1081\u001B[39m, in \u001B[36mFrameApply.apply_series_generator\u001B[39m\u001B[34m(self)\u001B[39m\n\u001B[32m   1078\u001B[39m \u001B[38;5;28;01mwith\u001B[39;00m option_context(\u001B[33m\"\u001B[39m\u001B[33mmode.chained_assignment\u001B[39m\u001B[33m\"\u001B[39m, \u001B[38;5;28;01mNone\u001B[39;00m):\n\u001B[32m   1079\u001B[39m     \u001B[38;5;28;01mfor\u001B[39;00m i, v \u001B[38;5;129;01min\u001B[39;00m \u001B[38;5;28menumerate\u001B[39m(series_gen):\n\u001B[32m   1080\u001B[39m         \u001B[38;5;66;03m# ignore SettingWithCopy here in case the user mutates\u001B[39;00m\n\u001B[32m-> \u001B[39m\u001B[32m1081\u001B[39m         results[i] = \u001B[38;5;28;43mself\u001B[39;49m\u001B[43m.\u001B[49m\u001B[43mfunc\u001B[49m\u001B[43m(\u001B[49m\u001B[43mv\u001B[49m\u001B[43m,\u001B[49m\u001B[43m \u001B[49m\u001B[43m*\u001B[49m\u001B[38;5;28;43mself\u001B[39;49m\u001B[43m.\u001B[49m\u001B[43margs\u001B[49m\u001B[43m,\u001B[49m\u001B[43m \u001B[49m\u001B[43m*\u001B[49m\u001B[43m*\u001B[49m\u001B[38;5;28;43mself\u001B[39;49m\u001B[43m.\u001B[49m\u001B[43mkwargs\u001B[49m\u001B[43m)\u001B[49m\n\u001B[32m   1082\u001B[39m         \u001B[38;5;28;01mif\u001B[39;00m \u001B[38;5;28misinstance\u001B[39m(results[i], ABCSeries):\n\u001B[32m   1083\u001B[39m             \u001B[38;5;66;03m# If we have a view on v, we need to make a copy because\u001B[39;00m\n\u001B[32m   1084\u001B[39m             \u001B[38;5;66;03m#  series_generator will swap out the underlying data\u001B[39;00m\n\u001B[32m   1085\u001B[39m             results[i] = results[i].copy(deep=\u001B[38;5;28;01mFalse\u001B[39;00m)\n",
      "\u001B[36mCell\u001B[39m\u001B[36m \u001B[39m\u001B[32mIn[5]\u001B[39m\u001B[32m, line 30\u001B[39m, in \u001B[36m<lambda>\u001B[39m\u001B[34m(row)\u001B[39m\n\u001B[32m     28\u001B[39m df[\u001B[33m\"\u001B[39m\u001B[33mExpiration\u001B[39m\u001B[33m\"\u001B[39m] = pd.to_datetime(df[\u001B[33m\"\u001B[39m\u001B[33mExpiration\u001B[39m\u001B[33m\"\u001B[39m], \u001B[38;5;28mformat\u001B[39m=\u001B[33m\"\u001B[39m\u001B[33m%\u001B[39m\u001B[33mY\u001B[39m\u001B[33m%\u001B[39m\u001B[33mm\u001B[39m\u001B[38;5;132;01m%d\u001B[39;00m\u001B[33m\"\u001B[39m)\n\u001B[32m     29\u001B[39m df[\u001B[33m\"\u001B[39m\u001B[33mT\u001B[39m\u001B[33m\"\u001B[39m] = (df[\u001B[33m\"\u001B[39m\u001B[33mExpiration\u001B[39m\u001B[33m\"\u001B[39m] - df.index).dt.days / \u001B[32m365\u001B[39m\n\u001B[32m---> \u001B[39m\u001B[32m30\u001B[39m df[\u001B[33m\"\u001B[39m\u001B[33mDelta\u001B[39m\u001B[33m\"\u001B[39m] = df.apply(\u001B[38;5;28;01mlambda\u001B[39;00m row: \u001B[43mdelta\u001B[49m\u001B[43m(\u001B[49m\u001B[43mS\u001B[49m\u001B[43m=\u001B[49m\u001B[43mrow\u001B[49m\u001B[43m[\u001B[49m\u001B[33;43m\"\u001B[39;49m\u001B[33;43mSPX\u001B[39;49m\u001B[33;43m\"\u001B[39;49m\u001B[43m]\u001B[49m\u001B[43m,\u001B[49m\u001B[43m \u001B[49m\u001B[43mK\u001B[49m\u001B[43m \u001B[49m\u001B[43m=\u001B[49m\u001B[43m \u001B[49m\u001B[43mrow\u001B[49m\u001B[43m[\u001B[49m\u001B[33;43m\"\u001B[39;49m\u001B[33;43mStrike\u001B[39;49m\u001B[33;43m\"\u001B[39;49m\u001B[43m]\u001B[49m\u001B[43m,\u001B[49m\u001B[43m \u001B[49m\u001B[43mT\u001B[49m\u001B[43m \u001B[49m\u001B[43m=\u001B[49m\u001B[43m \u001B[49m\u001B[38;5;28;43mmax\u001B[39;49m\u001B[43m(\u001B[49m\u001B[43mrow\u001B[49m\u001B[43m[\u001B[49m\u001B[33;43m\"\u001B[39;49m\u001B[33;43mT\u001B[39;49m\u001B[33;43m\"\u001B[39;49m\u001B[43m]\u001B[49m\u001B[43m,\u001B[49m\u001B[43m \u001B[49m\u001B[32;43m0\u001B[39;49m\u001B[43m)\u001B[49m\u001B[43m,\u001B[49m\u001B[43m \u001B[49m\u001B[43mr\u001B[49m\u001B[43m \u001B[49m\u001B[43m=\u001B[49m\u001B[43m \u001B[49m\u001B[43mr\u001B[49m\u001B[43m,\u001B[49m\u001B[43m \u001B[49m\u001B[43msigma\u001B[49m\u001B[43m \u001B[49m\u001B[43m=\u001B[49m\u001B[43m \u001B[49m\u001B[43msigma\u001B[49m\u001B[43m,\u001B[49m\u001B[43m \u001B[49m\u001B[43moption_type\u001B[49m\u001B[43m \u001B[49m\u001B[43m=\u001B[49m\u001B[43m \u001B[49m\u001B[43mrow\u001B[49m\u001B[43m[\u001B[49m\u001B[33;43m\"\u001B[39;49m\u001B[33;43mCallPut\u001B[39;49m\u001B[33;43m\"\u001B[39;49m\u001B[43m]\u001B[49m\u001B[43m)\u001B[49m, axis = \u001B[32m1\u001B[39m)\n\u001B[32m     31\u001B[39m \u001B[38;5;28mprint\u001B[39m(df.head())\n\u001B[32m     33\u001B[39m  \u001B[38;5;66;03m#df.to_pickle(file_path)\u001B[39;00m\n",
      "\u001B[36mCell\u001B[39m\u001B[36m \u001B[39m\u001B[32mIn[5]\u001B[39m\u001B[32m, line 16\u001B[39m, in \u001B[36mdelta\u001B[39m\u001B[34m(S, K, T, r, sigma, option_type)\u001B[39m\n\u001B[32m     14\u001B[39m     \u001B[38;5;28;01mreturn\u001B[39;00m norm.cdf(d1)\n\u001B[32m     15\u001B[39m \u001B[38;5;28;01melse\u001B[39;00m:\n\u001B[32m---> \u001B[39m\u001B[32m16\u001B[39m     \u001B[38;5;28;01mreturn\u001B[39;00m \u001B[43mnorm\u001B[49m\u001B[43m.\u001B[49m\u001B[43mcdf\u001B[49m\u001B[43m(\u001B[49m\u001B[43md1\u001B[49m\u001B[43m)\u001B[49m - \u001B[32m1\u001B[39m\n",
      "\u001B[36mFile \u001B[39m\u001B[32m~\\AppData\\Local\\Programs\\Python\\Python313\\Lib\\site-packages\\scipy\\stats\\_distn_infrastructure.py:2158\u001B[39m, in \u001B[36mrv_continuous.cdf\u001B[39m\u001B[34m(self, x, *args, **kwds)\u001B[39m\n\u001B[32m   2156\u001B[39m \u001B[38;5;28;01mif\u001B[39;00m np.any(cond):  \u001B[38;5;66;03m# call only if at least 1 entry\u001B[39;00m\n\u001B[32m   2157\u001B[39m     goodargs = argsreduce(cond, *((x,)+args))\n\u001B[32m-> \u001B[39m\u001B[32m2158\u001B[39m     \u001B[43mplace\u001B[49m\u001B[43m(\u001B[49m\u001B[43moutput\u001B[49m\u001B[43m,\u001B[49m\u001B[43m \u001B[49m\u001B[43mcond\u001B[49m\u001B[43m,\u001B[49m\u001B[43m \u001B[49m\u001B[38;5;28;43mself\u001B[39;49m\u001B[43m.\u001B[49m\u001B[43m_cdf\u001B[49m\u001B[43m(\u001B[49m\u001B[43m*\u001B[49m\u001B[43mgoodargs\u001B[49m\u001B[43m)\u001B[49m\u001B[43m)\u001B[49m\n\u001B[32m   2159\u001B[39m \u001B[38;5;28;01mif\u001B[39;00m output.ndim == \u001B[32m0\u001B[39m:\n\u001B[32m   2160\u001B[39m     \u001B[38;5;28;01mreturn\u001B[39;00m output[()]\n",
      "\u001B[36mFile \u001B[39m\u001B[32m~\\AppData\\Local\\Programs\\Python\\Python313\\Lib\\site-packages\\numpy\\lib\\_function_base_impl.py:2108\u001B[39m, in \u001B[36mplace\u001B[39m\u001B[34m(arr, mask, vals)\u001B[39m\n\u001B[32m   2070\u001B[39m \u001B[38;5;129m@array_function_dispatch\u001B[39m(_place_dispatcher)\n\u001B[32m   2071\u001B[39m \u001B[38;5;28;01mdef\u001B[39;00m\u001B[38;5;250m \u001B[39m\u001B[34mplace\u001B[39m(arr, mask, vals):\n\u001B[32m   2072\u001B[39m \u001B[38;5;250m    \u001B[39m\u001B[33;03m\"\"\"\u001B[39;00m\n\u001B[32m   2073\u001B[39m \u001B[33;03m    Change elements of an array based on conditional and input values.\u001B[39;00m\n\u001B[32m   2074\u001B[39m \n\u001B[32m   (...)\u001B[39m\u001B[32m   2106\u001B[39m \n\u001B[32m   2107\u001B[39m \u001B[33;03m    \"\"\"\u001B[39;00m\n\u001B[32m-> \u001B[39m\u001B[32m2108\u001B[39m     \u001B[38;5;28;01mreturn\u001B[39;00m \u001B[43m_place\u001B[49m\u001B[43m(\u001B[49m\u001B[43marr\u001B[49m\u001B[43m,\u001B[49m\u001B[43m \u001B[49m\u001B[43mmask\u001B[49m\u001B[43m,\u001B[49m\u001B[43m \u001B[49m\u001B[43mvals\u001B[49m\u001B[43m)\u001B[49m\n",
      "\u001B[31mKeyboardInterrupt\u001B[39m: "
     ]
    }
   ],
   "execution_count": 5
  },
  {
   "metadata": {
    "ExecuteTime": {
     "end_time": "2025-09-21T16:55:13.998727Z",
     "start_time": "2025-09-21T16:55:13.995631Z"
    }
   },
   "cell_type": "code",
   "source": "",
   "id": "4e1624b25530ee87",
   "outputs": [],
   "execution_count": null
  },
  {
   "metadata": {
    "ExecuteTime": {
     "end_time": "2025-09-21T16:55:19.206167Z",
     "start_time": "2025-09-21T16:55:19.203652Z"
    }
   },
   "cell_type": "code",
   "source": "",
   "id": "25a9a4e17a7c4b51",
   "outputs": [],
   "execution_count": null
  },
  {
   "metadata": {},
   "cell_type": "code",
   "outputs": [],
   "execution_count": null,
   "source": "",
   "id": "5c549e021ea7ad"
  }
 ],
 "metadata": {
  "language_info": {
   "name": "python"
  }
 },
 "nbformat": 4,
 "nbformat_minor": 5
}
