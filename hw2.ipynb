{
 "cells": [
  {
   "cell_type": "markdown",
   "id": "18b26ddf",
   "metadata": {},
   "source": [
    "# Homework 2 | Exploring Options | Tasks 1-4 due 09/22/25 | Task 5 due 09/24/25"
   ]
  },
  {
   "cell_type": "markdown",
   "id": "8e5b304d",
   "metadata": {},
   "source": [
    "Now that you have all of the options data stored locally on your computer and in pkl files, we can begin working with it. Your task will be to edit the monthly data and make some observations about its structure. See below."
   ]
  },
  {
   "cell_type": "markdown",
   "id": "4c96651e",
   "metadata": {},
   "source": [
    "## Tasks\n",
    "\n",
    "### 1. For each file, remove the following columns: ['ImpliedVolatility', 'Delta','Gamma', 'Vega', 'Theta']\n",
    "\n",
    "### 2. Add a column for the SPX index. MAKE SURE THE DATES MATCH! Hint: You might want to set the index of the options data to the date column... If yFinance doesn't let you download the SPX data skip this for now.\n",
    "\n",
    "### 2. On paper or using markdown, use your knowledge of calculus to compute explicit formulas for the Greeks we discussed\n",
    "\n",
    "### 3. Add columns of the Greeks using your formulae\n",
    "\n",
    "### 4. Using the Newton Raphson method discussed on 9/17/25, calculate implied volatilies for each option and add this as a column to the data\n",
    "\n",
    "### 5. Now plot the following and keep an eye out for specific relationships. We will talk about what we notice.\n",
    "\n",
    "### 5.1 Using the ATM Strike and fixed date, plot the following:\n",
    "* Call delta vs. time to maturity\n",
    "* Call gamma vs. time to maturity\n",
    "* Call theta vs. time to maturity\n",
    "* Call vega vs. time to maturity\n",
    "* Call implied volatility vs. time to maturity\n",
    "\n",
    "Do the same for puts. What do you notice about the greeks for calls and puts?\n",
    "\n",
    "### 5.2 From the span of 2015-2020:\n",
    "* Calculate a 5,21,63,129 rolling realiezd volatilities for SPX\n",
    "* Plot the implied volatilties for ATM options expiring at roughly the same 5,21,63,129 date marks. What I mean by this is, iterate through the data and calculate the implied volatility for ATM calls expriing in those times for every single day. You won't be using the same option for the 5 years if you get what I mean... Maybe it's clear already, and I'm being dramatic.\n",
    "* Make some plots of IV - RV. What do you notice? When does the graph become positive?\n",
    "\n",
    "### 5.3 Pick a date and maturity of your own choice and plot the following:\n",
    "* Strike vs. delta\n",
    "* Strike vs. theta\n",
    "* Strike vs. IV\n",
    "* Strike vs. option price\n",
    "\n",
    "Feel free to do any additional analysis with the data at any time by the way. We are getting familiar with how options work here!"
   ]
  },
  {
   "cell_type": "markdown",
   "id": "0f3c7601",
   "metadata": {},
   "source": [
    "## Your work starts here"
   ]
  },
  {
   "metadata": {},
   "cell_type": "code",
   "outputs": [],
   "execution_count": null,
   "source": "",
   "id": "8ba7df2c376e8ccc"
  }
 ],
 "metadata": {
  "language_info": {
   "name": "python"
  }
 },
 "nbformat": 4,
 "nbformat_minor": 5
}
